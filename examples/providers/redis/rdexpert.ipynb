{
 "cells": [
  {
   "cell_type": "code",
   "execution_count": 170,
   "metadata": {},
   "outputs": [],
   "source": [
    "import os\n",
    "import requests\n",
    "import fitz\n",
    "from langchain.document_loaders import UnstructuredPowerPointLoader, Docx2txtLoader\n",
    "import sys\n",
    "sys.path.append(\"../../../\")\n",
    "from models.models import Document"
   ]
  },
  {
   "cell_type": "code",
   "execution_count": 171,
   "metadata": {},
   "outputs": [],
   "source": [
    "BEARER_TOKEN = os.environ.get(\"BEARER_TOKEN\") \n",
    "endpoint_url = 'http://localhost:3333'\n",
    "headers = {\n",
    "    \"Authorization\": f\"Bearer {BEARER_TOKEN}\"\n",
    "}"
   ]
  },
  {
   "cell_type": "code",
   "execution_count": 172,
   "metadata": {},
   "outputs": [],
   "source": [
    "def load_file(file_path: str) -> Document:\n",
    "    \"\"\"input a azure blob name, loader file and return Document object\n",
    "\n",
    "    Args:\n",
    "        file_path (str): _description_\n",
    "\n",
    "    Raises:\n",
    "        ValueError: _description_\n",
    "\n",
    "    Returns:\n",
    "        _type_: _description_\n",
    "    \"\"\"\n",
    "    ## TODO: get filename, source, source_id, document_id, created_at, blob_url, contact_person, summary\n",
    "    filename = os.path.basename(file_path)\n",
    "    if file_path.endswith(\".pptx\") or file_path.endswith(\".ppt\"):\n",
    "        loader = UnstructuredPowerPointLoader(file_path)\n",
    "        text = loader.load()[0].page_content\n",
    "    elif file_path.endswith(\".docx\") or file_path.endswith(\".doc\"):\n",
    "        loader = Docx2txtLoader(file_path)\n",
    "        text = loader.load()[0].page_content\n",
    "    elif file_path.endswith(\".pdf\"):\n",
    "        doc = fitz.open(file_path)\n",
    "        text = \"\"\n",
    "        page_splitter = \"--PAGE_SPLITTER--\"\n",
    "        for page in doc:\n",
    "            text +=  page.get_text(\"text\", sort=True) + page_splitter\n",
    "    else:\n",
    "        raise ValueError(\"Unsupported file type\")\n",
    "\n",
    "    return Document(text=text, metadata={\"filename\": filename})\n",
    "    \n",
    "  "
   ]
  },
  {
   "cell_type": "code",
   "execution_count": 173,
   "metadata": {},
   "outputs": [],
   "source": [
    "pdf_doc = load_file(\"../../../data/pptexamples.pdf\")\n",
    "ppt_doc = load_file(\"../../../data/pptexamples.pptx\")\n",
    "docx_doc = load_file(\"../../../data/docexample.docx\")"
   ]
  },
  {
   "cell_type": "code",
   "execution_count": 175,
   "metadata": {},
   "outputs": [],
   "source": [
    "response = requests.post(\n",
    "    f\"{endpoint_url}/upsert\",\n",
    "    headers=headers,\n",
    "    json={\n",
    "        \"documents\": [pdf_doc.dict(), docx_doc.dict(), docx_doc.dict()]\n",
    "    }\n",
    ")\n",
    "response.raise_for_status()"
   ]
  },
  {
   "cell_type": "code",
   "execution_count": null,
   "metadata": {},
   "outputs": [],
   "source": []
  }
 ],
 "metadata": {
  "kernelspec": {
   "display_name": "venv",
   "language": "python",
   "name": "python3"
  },
  "language_info": {
   "codemirror_mode": {
    "name": "ipython",
    "version": 3
   },
   "file_extension": ".py",
   "mimetype": "text/x-python",
   "name": "python",
   "nbconvert_exporter": "python",
   "pygments_lexer": "ipython3",
   "version": "3.10.13"
  },
  "orig_nbformat": 4
 },
 "nbformat": 4,
 "nbformat_minor": 2
}
